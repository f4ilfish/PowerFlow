{
 "cells": [
  {
   "cell_type": "code",
   "execution_count": 1,
   "source": [
    "# Импорт нужной для работы библиотеки\r\n",
    "import win32com.client\r\n",
    "rastr = win32com.client.Dispatch('Astra.Rastr')"
   ],
   "outputs": [],
   "metadata": {}
  },
  {
   "cell_type": "code",
   "execution_count": 3,
   "source": [
    "import sys\r\n",
    "\r\n",
    "# Если данная ячейка завершается ошибкой,\r\n",
    "# значит вы используете не 32-битную версию Python\r\n",
    "assert sys.maxsize < 2**32, \\\r\n",
    "    'Incorrect Python architecture. We should use Python 32-bit'"
   ],
   "outputs": [],
   "metadata": {}
  },
  {
   "cell_type": "code",
   "execution_count": 4,
   "source": [
    "# Загружаем режим\r\n",
    "rastr.Load(1, 'regime.rg2', '')\r\n",
    "result = rastr.rgm('p')\r\n",
    "print(result)"
   ],
   "outputs": [
    {
     "output_type": "stream",
     "name": "stdout",
     "text": [
      "0\n"
     ]
    }
   ],
   "metadata": {}
  },
  {
   "cell_type": "code",
   "execution_count": 15,
   "source": [
    "# Парсим json с сечением\r\n",
    "import json\r\n",
    "\r\n",
    "with open('flowgate.json', \"r\") as flowgate:\r\n",
    "    flowgate_data = json.load(flowgate)\r\n",
    "\r\n",
    "print(flowgate_data)\r\n",
    "\r\n",
    "#for line in flowgate_data:\r\n",
    "#    print(flowgate_data[line]['ip'])"
   ],
   "outputs": [
    {
     "output_type": "stream",
     "name": "stdout",
     "text": [
      "{'line_1': {'ip': 17, 'iq': 16, 'np': 0}, 'line_2': {'ip': 6, 'iq': 11, 'np': 0}, 'line_3': {'ip': 4, 'iq': 14, 'np': 0}}\n"
     ]
    }
   ],
   "metadata": {}
  },
  {
   "cell_type": "code",
   "execution_count": 6,
   "source": [
    "# Парсим json с отключениями\r\n",
    "import json\r\n",
    "\r\n",
    "faults = open('faults.json', \"r\")\r\n",
    "faults_data = json.load(faults)\r\n",
    "\r\n",
    "print(faults_data)\r\n",
    "\r\n",
    "#for lines in faults_data:\r\n",
    "#    print(faults_data[lines]['ip'])"
   ],
   "outputs": [
    {
     "output_type": "stream",
     "name": "stdout",
     "text": [
      "{'outage_of_6_11': {'ip': 6, 'iq': 11, 'np': 0, 'sta': 1}, 'outage_of_4_14': {'ip': 4, 'iq': 14, 'np': 0, 'sta': 1}}\n"
     ]
    }
   ],
   "metadata": {}
  },
  {
   "cell_type": "code",
   "execution_count": 16,
   "source": [
    "# Парсим csv с траекторией\r\n",
    "import csv\r\n",
    "\r\n",
    "trajectory_data = []\r\n",
    "\r\n",
    "vector = open('vector.csv', newline = '')\r\n",
    "vector_data = csv.DictReader(vector)\r\n",
    "\r\n",
    "for row in vector_data:\r\n",
    "    trajectory_data.append(row)\r\n",
    "\r\n",
    "#print(trajectory_data)\r\n",
    "print(len(trajectory_data))\r\n",
    "\r\n",
    "#for node in trajectory_data:\r\n",
    "#   print(node)"
   ],
   "outputs": [
    {
     "output_type": "stream",
     "name": "stdout",
     "text": [
      "22\n"
     ]
    }
   ],
   "metadata": {}
  },
  {
   "cell_type": "code",
   "execution_count": 8,
   "source": [
    "#Словарик узлов\r\n",
    "node_data = {}\r\n",
    "i = 0\r\n",
    "for node in trajectory_data:\r\n",
    "    if node['node'] not in node_data:\r\n",
    "        node_data[node['node']] = i\r\n",
    "    i = i + 1\r\n",
    "print(node_data)"
   ],
   "outputs": [
    {
     "output_type": "stream",
     "name": "stdout",
     "text": [
      "{'23': 0, '24': 1, '29': 2, '21': 3, '27': 4, '3': 5, '16': 6, '8': 7, '7': 8, '15': 9, '4': 10, '20': 11, '25': 12, '1': 13, '2': 14, '5': 17, '6': 18, '9': 21}\n"
     ]
    }
   ],
   "metadata": {}
  },
  {
   "cell_type": "code",
   "execution_count": 9,
   "source": [
    "# Формируем и загружаем шаблоны\r\n",
    "rastr.Save('sech.sch', 'C:/Users/mishk/Documents/RastrWin3/SHABLON/сечения.sch')\r\n",
    "rastr.Load(1, 'sech.sch', 'C:/Users/mishk/Documents/RastrWin3/SHABLON/сечения.sch')\r\n",
    "\r\n",
    "rastr.Save('traj.ut2', 'C:/Users/mishk/Documents/RastrWin3/SHABLON/траектория утяжеления.ut2')\r\n",
    "rastr.Load(1, 'traj.ut2', 'C:/Users/mishk/Documents/RastrWin3/SHABLON/траектория утяжеления.ut2')"
   ],
   "outputs": [],
   "metadata": {}
  },
  {
   "cell_type": "code",
   "execution_count": 10,
   "source": [
    "#Заполняем sech.sch\r\n",
    "FlowGate = rastr.Tables('sechen')\r\n",
    "GroupLine = rastr.Tables('grline')\r\n",
    "\r\n",
    "FlowGate.DelRowS()\r\n",
    "GroupLine.DelRows()\r\n",
    "\r\n",
    "FlowGate.AddRow()\r\n",
    "FlowGate.Cols('name').SetZ(0, 'new')\r\n",
    "FlowGate.Cols('ns').SetZ(0, 1)\r\n",
    "FlowGate.Cols('sta').SetZ(0, 1)\r\n",
    "\r\n",
    "i = 0\r\n",
    "\r\n",
    "for line in flowgate_data:\r\n",
    "    GroupLine.AddRow()\r\n",
    "    GroupLine.Cols('ns').SetZ(i, 1)\r\n",
    "\r\n",
    "    start_node = flowgate_data[line]['ip']\r\n",
    "    end_node = flowgate_data[line]['iq']\r\n",
    "\r\n",
    "    GroupLine.Cols('ip').SetZ(i, start_node)\r\n",
    "    GroupLine.Cols('iq').SetZ(i, end_node)\r\n",
    "    \r\n",
    "    i = i + 1\r\n",
    "\r\n",
    "rastr.Save('sech.sch', 'C:/Users/mishk/Documents/RastrWin3/SHABLON/сечения.sch')"
   ],
   "outputs": [],
   "metadata": {}
  },
  {
   "cell_type": "code",
   "execution_count": 11,
   "source": [
    "#Заполняем traj.ut2\r\n",
    "Trajectory = rastr.Tables('ut_node')\r\n",
    "\r\n",
    "i = 0\r\n",
    "\r\n",
    "Trajectory.DelRowS()\r\n",
    "\r\n",
    "for node in trajectory_data:\r\n",
    "    node_type = node['variable']\r\n",
    "    node_number = node['node']\r\n",
    "    power_change = float(node['value'])\r\n",
    "    power_tg = node['tg']\r\n",
    "\r\n",
    "\r\n",
    "\r\n",
    "    Trajectory.AddRow()\r\n",
    "    Trajectory.Cols('ny').SetZ(i, node_number)\r\n",
    "    Trajectory.Cols(node_type).SetZ(i, power_change)\r\n",
    "    \r\n",
    "    #if node_type == 'pn':\r\n",
    "    #    Trajectory.Cols('pn').SetZ(i, power_change)\r\n",
    "    #if node_type == 'pg':\r\n",
    "    #    Trajectory.Cols('pg').SetZ(i, power_change)\r\n",
    "    if Trajectory.Cols('tg').Z(i) == 0:\r\n",
    "        Trajectory.Cols('tg').SetZ(i, power_tg)\r\n",
    "    \r\n",
    "    i = i + 1\r\n",
    "\r\n",
    "rastr.Save('traj.ut2', 'C:/Users/mishk/Documents/RastrWin3/SHABLON/траектория утяжеления.ut2')\r\n"
   ],
   "outputs": [],
   "metadata": {}
  },
  {
   "cell_type": "code",
   "execution_count": 12,
   "source": [
    "# Тестовое утяжеление\r\n",
    "rastr.Load(1, 'regime.rg2', 'C:/Users/mishk/Documents/RastrWin3/SHABLON/режим.rg2')\r\n",
    "rastr.Load(1, 'sech.sch', 'C:/Users/mishk/Documents/RastrWin3/SHABLON/сечения.sch')\r\n",
    "rastr.Load(1, 'traj.ut2', 'C:/Users/mishk/Documents/RastrWin3/SHABLON/траектория утяжеления.ut2')\r\n",
    "\r\n",
    "result = rastr.rgm('p')\r\n",
    "print(result)"
   ],
   "outputs": [
    {
     "output_type": "stream",
     "name": "stdout",
     "text": [
      "0\n"
     ]
    }
   ],
   "metadata": {}
  },
  {
   "cell_type": "code",
   "execution_count": 13,
   "source": [
    "# Параметры утяжеления\r\n",
    "PowerFlowControl = rastr.Tables('ut_common')\r\n",
    "PowerFlowControl.Cols('iter').SetZ(0, 200)\r\n",
    "PowerFlowControl.Cols('enable_contr').SetZ(0, 1)\r\n",
    "PowerFlowControl.Cols('dis_v_contr').SetZ(0, 1)\r\n",
    "PowerFlowControl.Cols('dis_i_contr').SetZ(0, 1)"
   ],
   "outputs": [],
   "metadata": {}
  },
  {
   "cell_type": "code",
   "execution_count": 14,
   "source": [
    "#Пробное утяжеление\r\n",
    "if rastr.ut_utr('i') > 0:\r\n",
    "    rastr.ut_utr('')\r\n",
    "\r\n",
    "maxPowerFlow = rastr.Tables('sechen').Cols('psech').Z(0)\r\n",
    "print(maxPowerFlow)"
   ],
   "outputs": [
    {
     "output_type": "stream",
     "name": "stdout",
     "text": [
      "-3160.550806388896\n"
     ]
    }
   ],
   "metadata": {}
  }
 ],
 "metadata": {
  "orig_nbformat": 4,
  "language_info": {
   "name": "python",
   "version": "3.9.7",
   "mimetype": "text/x-python",
   "codemirror_mode": {
    "name": "ipython",
    "version": 3
   },
   "pygments_lexer": "ipython3",
   "nbconvert_exporter": "python",
   "file_extension": ".py"
  },
  "kernelspec": {
   "name": "python3",
   "display_name": "Python 3.9.7 32-bit ('.venv32': venv)"
  },
  "interpreter": {
   "hash": "29fb7df95740e5f803f78043f46750ba682e15b6d5c2a5b15198a1ec2c0e8ac6"
  }
 },
 "nbformat": 4,
 "nbformat_minor": 2
}