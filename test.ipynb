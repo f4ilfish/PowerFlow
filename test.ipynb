{
 "cells": [
  {
   "cell_type": "code",
   "execution_count": 1,
   "source": [
    "# Импорт нужной для работы библиотеки\r\n",
    "import win32com.client\r\n",
    "rastr = win32com.client.Dispatch('Astra.Rastr')"
   ],
   "outputs": [],
   "metadata": {}
  },
  {
   "cell_type": "code",
   "execution_count": 2,
   "source": [
    "# Загружаем режим\r\n",
    "rastr.Load(1, 'regime.rg2', '')\r\n",
    "result = rastr.rgm('p')"
   ],
   "outputs": [],
   "metadata": {}
  },
  {
   "cell_type": "code",
   "execution_count": 3,
   "source": [
    "# Парсим json с сечением\r\n",
    "import json\r\n",
    "\r\n",
    "flowgate = open('flowgate.json', \"r\")\r\n",
    "flowgate_data = json.load(flowgate)\r\n",
    "\r\n",
    "print(flowgate_data)"
   ],
   "outputs": [
    {
     "output_type": "stream",
     "name": "stdout",
     "text": [
      "{'line_1': {'ip': 17, 'iq': 16, 'np': 0}, 'line_2': {'ip': 6, 'iq': 11, 'np': 0}, 'line_3': {'ip': 4, 'iq': 14, 'np': 0}}\n"
     ]
    }
   ],
   "metadata": {}
  },
  {
   "cell_type": "code",
   "execution_count": 4,
   "source": [
    "# Парсим json с отключениями\r\n",
    "import json\r\n",
    "\r\n",
    "faults = open('faults.json', \"r\")\r\n",
    "faults_data = json.load(faults)\r\n",
    "\r\n",
    "print(faults_data)\r\n",
    "\r\n",
    "for lines in faults_data:\r\n",
    "    print(faults_data[lines]['ip'])"
   ],
   "outputs": [
    {
     "output_type": "stream",
     "name": "stdout",
     "text": [
      "{'outage_of_6_11': {'ip': 6, 'iq': 11, 'np': 0, 'sta': 1}, 'outage_of_4_14': {'ip': 4, 'iq': 14, 'np': 0, 'sta': 1}}\n",
      "6\n",
      "4\n"
     ]
    }
   ],
   "metadata": {}
  },
  {
   "cell_type": "code",
   "execution_count": 5,
   "source": [
    "# Парсим csv с траекторией\r\n",
    "import csv\r\n",
    "\r\n",
    "results = []\r\n",
    "\r\n",
    "vector = open('vector.csv', newline = '')\r\n",
    "vector_data = csv.DictReader(vector)\r\n",
    "\r\n",
    "for row in vector_data:\r\n",
    "    results.append(row)\r\n",
    "\r\n",
    "print(results)\r\n",
    "\r\n",
    "#for row in results:\r\n",
    "#    print(row[\"variable\"])\r\n"
   ],
   "outputs": [
    {
     "output_type": "stream",
     "name": "stdout",
     "text": [
      "[{'variable': 'pn', 'node': '23', 'value': '-3.0', 'tg': '1'}, {'variable': 'pn', 'node': '24', 'value': '-3.0', 'tg': '1'}, {'variable': 'pn', 'node': '29', 'value': '1.0', 'tg': '1'}, {'variable': 'pn', 'node': '21', 'value': '-3.0', 'tg': '1'}, {'variable': 'pn', 'node': '27', 'value': '2.0', 'tg': '1'}, {'variable': 'pn', 'node': '3', 'value': '2.0', 'tg': '1'}, {'variable': 'pn', 'node': '16', 'value': '-4.0', 'tg': '1'}, {'variable': 'pn', 'node': '8', 'value': '3.0', 'tg': '1'}, {'variable': 'pn', 'node': '7', 'value': '2.0', 'tg': '1'}, {'variable': 'pn', 'node': '15', 'value': '-4.0', 'tg': '1'}, {'variable': 'pn', 'node': '4', 'value': '4.0', 'tg': '1'}, {'variable': 'pn', 'node': '20', 'value': '-1.0', 'tg': '0'}, {'variable': 'pn', 'node': '25', 'value': '4.0', 'tg': '0'}, {'variable': 'pg', 'node': '1', 'value': '4.0', 'tg': '0'}, {'variable': 'pg', 'node': '2', 'value': '3.0', 'tg': '0'}, {'variable': 'pg', 'node': '3', 'value': '3.0', 'tg': '0'}, {'variable': 'pg', 'node': '4', 'value': '3.0', 'tg': '0'}, {'variable': 'pg', 'node': '5', 'value': '2.0', 'tg': '0'}, {'variable': 'pg', 'node': '6', 'value': '-4.0', 'tg': '0'}, {'variable': 'pg', 'node': '7', 'value': '-4.0', 'tg': '0'}, {'variable': 'pg', 'node': '8', 'value': '-2.0', 'tg': '0'}, {'variable': 'pg', 'node': '9', 'value': '-1.0', 'tg': '0'}]\n"
     ]
    }
   ],
   "metadata": {}
  },
  {
   "cell_type": "code",
   "execution_count": 7,
   "source": [
    "# Формируем и загружаем шаблоны\r\n",
    "rastr.Save('sech.sch', 'C:/Users/mishk/Documents/RastrWin3/SHABLON/сечение.sch')\r\n",
    "rastr.Load(1, 'sech.sch', 'C:/Users/mishk/Documents/RastrWin3/SHABLON/сечение.sch')\r\n",
    "rastr.Save('traj.sch', 'C:/Users/mishk/Documents/RastrWin3/SHABLON/траектория утяжеления.ut')\r\n",
    "rastr.Load(1, 'traj.sch', 'C:/Users/mishk/Documents/RastrWin3/SHABLON/траектория утяжеления.ut')"
   ],
   "outputs": [
    {
     "output_type": "error",
     "ename": "com_error",
     "evalue": "(-2147352567, 'Ошибка.', (0, 'Astra.Rastr.1', 'Эта функция недоступна в демонстрационном режиме !', None, 0, -2147467259), None)",
     "traceback": [
      "\u001b[1;31m---------------------------------------------------------------------------\u001b[0m",
      "\u001b[1;31mcom_error\u001b[0m                                 Traceback (most recent call last)",
      "\u001b[1;32m~\\AppData\\Local\\Temp/ipykernel_8972/2966705148.py\u001b[0m in \u001b[0;36m<module>\u001b[1;34m\u001b[0m\n\u001b[0;32m      1\u001b[0m \u001b[1;31m# Формируем и загружаем шаблоны\u001b[0m\u001b[1;33m\u001b[0m\u001b[1;33m\u001b[0m\u001b[0m\n\u001b[1;32m----> 2\u001b[1;33m \u001b[0mrastr\u001b[0m\u001b[1;33m.\u001b[0m\u001b[0mSave\u001b[0m\u001b[1;33m(\u001b[0m\u001b[1;34m'sech.sch'\u001b[0m\u001b[1;33m,\u001b[0m \u001b[1;34m'C:/Users/mishk/Documents/RastrWin3/SHABLON/сечение.sch'\u001b[0m\u001b[1;33m)\u001b[0m\u001b[1;33m\u001b[0m\u001b[1;33m\u001b[0m\u001b[0m\n\u001b[0m\u001b[0;32m      3\u001b[0m \u001b[0mrastr\u001b[0m\u001b[1;33m.\u001b[0m\u001b[0mLoad\u001b[0m\u001b[1;33m(\u001b[0m\u001b[1;36m1\u001b[0m\u001b[1;33m,\u001b[0m \u001b[1;34m'sech.sch'\u001b[0m\u001b[1;33m,\u001b[0m \u001b[1;34m'C:/Users/mishk/Documents/RastrWin3/SHABLON/сечение.sch'\u001b[0m\u001b[1;33m)\u001b[0m\u001b[1;33m\u001b[0m\u001b[1;33m\u001b[0m\u001b[0m\n\u001b[0;32m      4\u001b[0m \u001b[0mrastr\u001b[0m\u001b[1;33m.\u001b[0m\u001b[0mSave\u001b[0m\u001b[1;33m(\u001b[0m\u001b[1;34m'traj.sch'\u001b[0m\u001b[1;33m,\u001b[0m \u001b[1;34m'C:/Users/mishk/Documents/RastrWin3/SHABLON/траектория утяжеления.ut'\u001b[0m\u001b[1;33m)\u001b[0m\u001b[1;33m\u001b[0m\u001b[1;33m\u001b[0m\u001b[0m\n\u001b[0;32m      5\u001b[0m \u001b[0mrastr\u001b[0m\u001b[1;33m.\u001b[0m\u001b[0mLoad\u001b[0m\u001b[1;33m(\u001b[0m\u001b[1;36m1\u001b[0m\u001b[1;33m,\u001b[0m \u001b[1;34m'traj.sch'\u001b[0m\u001b[1;33m,\u001b[0m \u001b[1;34m'C:/Users/mishk/Documents/RastrWin3/SHABLON/траектория утяжеления.ut'\u001b[0m\u001b[1;33m)\u001b[0m\u001b[1;33m\u001b[0m\u001b[1;33m\u001b[0m\u001b[0m\n",
      "\u001b[1;32mc:\\Users\\mishk\\vscode_projects\\.venv32\\lib\\site-packages\\win32com\\client\\dynamic.py\u001b[0m in \u001b[0;36mSave\u001b[1;34m(self, Name, templ)\u001b[0m\n",
      "\u001b[1;31mcom_error\u001b[0m: (-2147352567, 'Ошибка.', (0, 'Astra.Rastr.1', 'Эта функция недоступна в демонстрационном режиме !', None, 0, -2147467259), None)"
     ]
    }
   ],
   "metadata": {}
  }
 ],
 "metadata": {
  "orig_nbformat": 4,
  "language_info": {
   "name": "python",
   "version": "3.9.7",
   "mimetype": "text/x-python",
   "codemirror_mode": {
    "name": "ipython",
    "version": 3
   },
   "pygments_lexer": "ipython3",
   "nbconvert_exporter": "python",
   "file_extension": ".py"
  },
  "kernelspec": {
   "name": "python3",
   "display_name": "Python 3.9.7 32-bit ('.venv32': venv)"
  },
  "interpreter": {
   "hash": "29fb7df95740e5f803f78043f46750ba682e15b6d5c2a5b15198a1ec2c0e8ac6"
  }
 },
 "nbformat": 4,
 "nbformat_minor": 2
}