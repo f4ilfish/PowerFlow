{
 "cells": [
  {
   "cell_type": "code",
   "execution_count": 3,
   "source": [
    "# Импорт нужной для работы библиотеки\r\n",
    "import win32com.client\r\n",
    "rastr = win32com.client.Dispatch('Astra.Rastr')\r\n",
    "\r\n",
    "import data_extract"
   ],
   "outputs": [],
   "metadata": {}
  },
  {
   "cell_type": "code",
   "execution_count": 4,
   "source": [
    "import sys\r\n",
    "\r\n",
    "# Если данная ячейка завершается ошибкой,\r\n",
    "# значит вы используете не 32-битную версию Python\r\n",
    "assert sys.maxsize < 2**32, \\\r\n",
    "    'Incorrect Python architecture. We should use Python 32-bit'"
   ],
   "outputs": [],
   "metadata": {}
  },
  {
   "cell_type": "code",
   "execution_count": 5,
   "source": [
    "# Загружаем режим\r\n",
    "rastr.Load(1, 'regime.rg2', '')\r\n",
    "result = rastr.rgm('p')\r\n",
    "print(result)"
   ],
   "outputs": [
    {
     "output_type": "stream",
     "name": "stdout",
     "text": [
      "0\n"
     ]
    }
   ],
   "metadata": {}
  },
  {
   "cell_type": "code",
   "execution_count": 4,
   "source": [
    "# Парсим json с сечением\r\n",
    "\r\n",
    "flowgate_lines = data_extract.json_to_dic('flowgate.json')\r\n",
    "\r\n",
    "print(flowgate_lines)\r\n",
    "\r\n",
    "#with open('flowgate.json', \"r\") as flowgate:\r\n",
    "#    flowgate_data = json.load(flowgate)\r\n",
    "\r\n",
    "#print(flowgate_add('flowgate.json'))\r\n",
    "\r\n",
    "#for line in flowgate_data:\r\n",
    "#    print(flowgate_data[line]['ip'])"
   ],
   "outputs": [
    {
     "output_type": "stream",
     "name": "stdout",
     "text": [
      "{'line_1': {'ip': 17, 'iq': 16, 'np': 0}, 'line_2': {'ip': 6, 'iq': 11, 'np': 0}, 'line_3': {'ip': 4, 'iq': 14, 'np': 0}}\n"
     ]
    }
   ],
   "metadata": {}
  },
  {
   "cell_type": "code",
   "execution_count": 5,
   "source": [
    "# Парсим json с отключениями\r\n",
    "\r\n",
    "faults_lines = data_extract.json_to_dic('faults.json')\r\n",
    "\r\n",
    "print(faults_lines)"
   ],
   "outputs": [
    {
     "output_type": "stream",
     "name": "stdout",
     "text": [
      "{'outage_of_6_11': {'ip': 6, 'iq': 11, 'np': 0, 'sta': 1}, 'outage_of_4_14': {'ip': 4, 'iq': 14, 'np': 0, 'sta': 1}}\n"
     ]
    }
   ],
   "metadata": {}
  },
  {
   "cell_type": "code",
   "execution_count": 6,
   "source": [
    "# Парсим csv с траекторией\r\n",
    "\r\n",
    "trajectory_nodes = data_extract.csv_to_list('vector.csv')\r\n",
    "\r\n",
    "print(trajectory_nodes)"
   ],
   "outputs": [
    {
     "output_type": "stream",
     "name": "stdout",
     "text": [
      "[{'variable': 'pn', 'node': '23', 'value': '-3.0', 'tg': '1'}, {'variable': 'pn', 'node': '24', 'value': '-3.0', 'tg': '1'}, {'variable': 'pn', 'node': '29', 'value': '1.0', 'tg': '1'}, {'variable': 'pn', 'node': '21', 'value': '-3.0', 'tg': '1'}, {'variable': 'pn', 'node': '27', 'value': '2.0', 'tg': '1'}, {'variable': 'pn', 'node': '3', 'value': '2.0', 'tg': '1'}, {'variable': 'pn', 'node': '16', 'value': '-4.0', 'tg': '1'}, {'variable': 'pn', 'node': '8', 'value': '3.0', 'tg': '1'}, {'variable': 'pn', 'node': '7', 'value': '2.0', 'tg': '1'}, {'variable': 'pn', 'node': '15', 'value': '-4.0', 'tg': '1'}, {'variable': 'pn', 'node': '4', 'value': '4.0', 'tg': '1'}, {'variable': 'pn', 'node': '20', 'value': '-1.0', 'tg': '0'}, {'variable': 'pn', 'node': '25', 'value': '4.0', 'tg': '0'}, {'variable': 'pg', 'node': '1', 'value': '4.0', 'tg': '0'}, {'variable': 'pg', 'node': '2', 'value': '3.0', 'tg': '0'}, {'variable': 'pg', 'node': '3', 'value': '3.0', 'tg': '0'}, {'variable': 'pg', 'node': '4', 'value': '3.0', 'tg': '0'}, {'variable': 'pg', 'node': '5', 'value': '2.0', 'tg': '0'}, {'variable': 'pg', 'node': '6', 'value': '-4.0', 'tg': '0'}, {'variable': 'pg', 'node': '7', 'value': '-4.0', 'tg': '0'}, {'variable': 'pg', 'node': '8', 'value': '-2.0', 'tg': '0'}, {'variable': 'pg', 'node': '9', 'value': '-1.0', 'tg': '0'}]\n"
     ]
    }
   ],
   "metadata": {}
  },
  {
   "cell_type": "code",
   "execution_count": 7,
   "source": [
    "#Словарик узлов\r\n",
    "node_data = {}\r\n",
    "i = 0\r\n",
    "for node in trajectory_data:\r\n",
    "    if node['node'] not in node_data:\r\n",
    "        node_data[node['node']] = i\r\n",
    "    i = i + 1\r\n",
    "print(node_data)"
   ],
   "outputs": [
    {
     "output_type": "stream",
     "name": "stdout",
     "text": [
      "{'23': 0, '24': 1, '29': 2, '21': 3, '27': 4, '3': 5, '16': 6, '8': 7, '7': 8, '15': 9, '4': 10, '20': 11, '25': 12, '1': 13, '2': 14, '5': 17, '6': 18, '9': 21}\n"
     ]
    }
   ],
   "metadata": {}
  },
  {
   "cell_type": "code",
   "execution_count": 8,
   "source": [
    "# Формируем и загружаем шаблоны\r\n",
    "rastr.Save('sech.sch', 'C:/Users/mishk/Documents/RastrWin3/SHABLON/сечения.sch')\r\n",
    "rastr.Load(1, 'sech.sch', 'C:/Users/mishk/Documents/RastrWin3/SHABLON/сечения.sch')\r\n",
    "\r\n",
    "rastr.Save('traj.ut2', 'C:/Users/mishk/Documents/RastrWin3/SHABLON/траектория утяжеления.ut2')\r\n",
    "rastr.Load(1, 'traj.ut2', 'C:/Users/mishk/Documents/RastrWin3/SHABLON/траектория утяжеления.ut2')"
   ],
   "outputs": [],
   "metadata": {}
  },
  {
   "cell_type": "code",
   "execution_count": 9,
   "source": [
    "#Заполняем sech.sch\r\n",
    "FlowGate = rastr.Tables('sechen')\r\n",
    "GroupLine = rastr.Tables('grline')\r\n",
    "\r\n",
    "FlowGate.DelRowS()\r\n",
    "GroupLine.DelRows()\r\n",
    "\r\n",
    "FlowGate.AddRow()\r\n",
    "FlowGate.Cols('name').SetZ(0, 'new')\r\n",
    "FlowGate.Cols('ns').SetZ(0, 1)\r\n",
    "FlowGate.Cols('sta').SetZ(0, 1)\r\n",
    "\r\n",
    "i = 0\r\n",
    "\r\n",
    "for line in flowgate_data:\r\n",
    "    GroupLine.AddRow()\r\n",
    "    GroupLine.Cols('ns').SetZ(i, 1)\r\n",
    "\r\n",
    "    start_node = flowgate_data[line]['ip']\r\n",
    "    end_node = flowgate_data[line]['iq']\r\n",
    "\r\n",
    "    GroupLine.Cols('ip').SetZ(i, start_node)\r\n",
    "    GroupLine.Cols('iq').SetZ(i, end_node)\r\n",
    "    \r\n",
    "    i = i + 1\r\n",
    "\r\n",
    "rastr.Save('sech.sch', 'C:/Users/mishk/Documents/RastrWin3/SHABLON/сечения.sch')"
   ],
   "outputs": [],
   "metadata": {}
  },
  {
   "cell_type": "code",
   "execution_count": 10,
   "source": [
    "#Заполняем traj.ut2\r\n",
    "Trajectory = rastr.Tables('ut_node')\r\n",
    "\r\n",
    "i = 0\r\n",
    "node_dic = {}\r\n",
    "\r\n",
    "Trajectory.DelRowS()\r\n",
    "\r\n",
    "for node in trajectory_data:\r\n",
    "    node_type = node['variable']\r\n",
    "    node_number = node['node']\r\n",
    "    power_change = float(node['value'])\r\n",
    "    power_tg = node['tg']\r\n",
    "\r\n",
    "    if node_number not in node_dic:\r\n",
    "        node_dic[node_number] = i\r\n",
    "        i = i + 1\r\n",
    "        Trajectory.AddRow()\r\n",
    "        Trajectory.Cols('ny').SetZ(node_dic[node_number], node_number)\r\n",
    "        Trajectory.Cols(node_type).SetZ(node_dic[node_number], power_change)\r\n",
    "    else:\r\n",
    "        Trajectory.Cols(node_type).SetZ(node_dic[node_number], power_change)\r\n",
    "\r\n",
    "    if Trajectory.Cols('tg').Z(node_dic[node_number]) == 0:\r\n",
    "        Trajectory.Cols('tg').SetZ(node_dic[node_number], power_tg)\r\n",
    "\r\n",
    "rastr.Save('traj.ut2', 'C:/Users/mishk/Documents/RastrWin3/SHABLON/траектория утяжеления.ut2')"
   ],
   "outputs": [],
   "metadata": {}
  },
  {
   "cell_type": "code",
   "execution_count": 11,
   "source": [
    "# Тестовое утяжеление\r\n",
    "rastr.Load(1, 'regime.rg2', 'C:/Users/mishk/Documents/RastrWin3/SHABLON/режим.rg2')\r\n",
    "rastr.Load(1, 'sech.sch', 'C:/Users/mishk/Documents/RastrWin3/SHABLON/сечения.sch')\r\n",
    "rastr.Load(1, 'traj.ut2', 'C:/Users/mishk/Documents/RastrWin3/SHABLON/траектория утяжеления.ut2')\r\n",
    "\r\n",
    "result = rastr.rgm('p')\r\n",
    "print(result)"
   ],
   "outputs": [
    {
     "output_type": "stream",
     "name": "stdout",
     "text": [
      "0\n"
     ]
    }
   ],
   "metadata": {}
  },
  {
   "cell_type": "code",
   "execution_count": 12,
   "source": [
    "# Параметры утяжеления\r\n",
    "PowerFlowControl = rastr.Tables('ut_common')\r\n",
    "PowerFlowControl.Cols('iter').SetZ(0, 200)\r\n",
    "PowerFlowControl.Cols('enable_contr').SetZ(0, 1)\r\n",
    "PowerFlowControl.Cols('dis_v_contr').SetZ(0, 1)\r\n",
    "PowerFlowControl.Cols('dis_i_contr').SetZ(0, 1)"
   ],
   "outputs": [],
   "metadata": {}
  },
  {
   "cell_type": "code",
   "execution_count": 13,
   "source": [
    "#Пробное утяжеление\r\n",
    "if rastr.ut_utr('i') > 0:\r\n",
    "    rastr.ut_utr('')\r\n",
    "\r\n",
    "maxPowerFlow = round(abs(rastr.Tables('sechen').Cols('psech').Z(0)), 2)\r\n",
    "print(maxPowerFlow)"
   ],
   "outputs": [
    {
     "output_type": "stream",
     "name": "stdout",
     "text": [
      "2808.21\n"
     ]
    }
   ],
   "metadata": {}
  },
  {
   "cell_type": "code",
   "execution_count": 7,
   "source": [
    "#Обеспечение нормативного коэффициента запаса статической апериодической устойчивости \r\n",
    "# по активной мощности в контролируемом сечении в нормальной схеме\r\n",
    "\r\n",
    "rastr.Load(1, 'regime.rg2', 'C:/Users/mishk/Documents/RastrWin3/SHABLON/режим.rg2')\r\n",
    "rastr.Load(1, 'sech.sch', 'C:/Users/mishk/Documents/RastrWin3/SHABLON/сечения.sch')\r\n",
    "rastr.Load(1, 'traj.ut2', 'C:/Users/mishk/Documents/RastrWin3/SHABLON/траектория утяжеления.ut2')\r\n",
    "\r\n",
    "PowerFlowControl = rastr.Tables('ut_common')\r\n",
    "PowerFlowControl.Cols('iter').SetZ(0, 200)\r\n",
    "PowerFlowControl.Cols('enable_contr').SetZ(0, 1)\r\n",
    "PowerFlowControl.Cols('dis_v_contr').SetZ(0, 1)\r\n",
    "PowerFlowControl.Cols('dis_i_contr').SetZ(0, 1)\r\n",
    "\r\n",
    "#print(type(PowerFlowControl.Cols('enable_contr').Z(0))\r\n",
    "\r\n",
    "if rastr.ut_utr('i') > 0:\r\n",
    "    rastr.ut_utr('')\r\n",
    "\r\n",
    "Criteria1 = abs(rastr.Tables('sechen').Cols('psech').Z(0)) * 0.8 - 30\r\n",
    "Criteria1 = round(Criteria1, 2)\r\n",
    "print(Criteria1)"
   ],
   "outputs": [
    {
     "output_type": "stream",
     "name": "stdout",
     "text": [
      "2216.57\n"
     ]
    }
   ],
   "metadata": {}
  },
  {
   "cell_type": "code",
   "execution_count": 50,
   "source": [
    "#Обеспечение нормативного коэффициента запаса статической устойчивости\r\n",
    "# по напряжению в узлах нагрузки в нормальной схеме\r\n",
    "\r\n",
    "rastr.Load(1, 'regime.rg2', 'C:/Users/mishk/Documents/RastrWin3/SHABLON/режим.rg2')\r\n",
    "rastr.Load(1, 'sech.sch', 'C:/Users/mishk/Documents/RastrWin3/SHABLON/сечения.sch')\r\n",
    "rastr.Load(1, 'traj.ut2', 'C:/Users/mishk/Documents/RastrWin3/SHABLON/траектория утяжеления.ut2')\r\n",
    "\r\n",
    "PowerFlowControl = rastr.Tables('ut_common')\r\n",
    "PowerFlowControl.Cols('iter').SetZ(0, 200)\r\n",
    "PowerFlowControl.Cols('enable_contr').SetZ(0, 1)\r\n",
    "PowerFlowControl.Cols('dis_i_contr').SetZ(0, 1)\r\n",
    "\r\n",
    "i = 0\r\n",
    "\r\n",
    "while i < rastr.Tables('node').Size:\r\n",
    "    if rastr.Tables('node').Cols('tip').Z(i) == 1:\r\n",
    "        u_kr = rastr.Tables('node').Cols('uhom').Z(i) * 0,7\r\n",
    "        u_min = u_kr * 1,15\r\n",
    "        rastr.Tables('node').Cols('umin').SetZ(i, u_min)\r\n",
    "        rastr.Tables('node').Cols('contr_v').SetZ(i, 1)\r\n",
    "    i = i + 1\r\n",
    "\r\n",
    "if rastr.ut_utr('i') > 0:\r\n",
    "    rastr.ut_utr('')\r\n",
    "\r\n",
    "#print(abs(rastr.Tables('sechen').Cols('psech').Z(0)))\r\n",
    "\r\n",
    "Criteria2 = abs(rastr.Tables('sechen').Cols('psech').Z(0)) - 30\r\n",
    "Criteria2 = round(Criteria2, 2)\r\n",
    "print(Criteria2)\r\n",
    "\r\n",
    "#rastr.GetToggle().MoveOnPosition(len(rastr.GetToggle().GetPositions()) - 1)\r\n",
    "\r\n",
    "#abs(rastr.Tables('sechen').Cols('psech').Z(0))"
   ],
   "outputs": [
    {
     "output_type": "stream",
     "name": "stdout",
     "text": [
      "2778.21\n"
     ]
    }
   ],
   "metadata": {}
  },
  {
   "cell_type": "code",
   "execution_count": 33,
   "source": [
    "print(faults_data)"
   ],
   "outputs": [
    {
     "output_type": "stream",
     "name": "stdout",
     "text": [
      "{'outage_of_6_11': {'ip': 6, 'iq': 11, 'np': 0, 'sta': 1}, 'outage_of_4_14': {'ip': 4, 'iq': 14, 'np': 0, 'sta': 1}}\n"
     ]
    }
   ],
   "metadata": {}
  },
  {
   "cell_type": "code",
   "execution_count": 41,
   "source": [
    "# Обеспечение нормативного коэффициента запаса статической апериодической устойчивости\r\n",
    "# по активной мощности в контролируемом сечении в послеаварийных режимах после нормативных возмущений\r\n",
    "\r\n",
    "rastr.Load(1, 'regime.rg2', 'C:/Users/mishk/Documents/RastrWin3/SHABLON/режим.rg2')\r\n",
    "rastr.Load(1, 'sech.sch', 'C:/Users/mishk/Documents/RastrWin3/SHABLON/сечения.sch')\r\n",
    "rastr.Load(1, 'traj.ut2', 'C:/Users/mishk/Documents/RastrWin3/SHABLON/траектория утяжеления.ut2')\r\n",
    "\r\n",
    "PowerFlowControl = rastr.Tables('ut_common')\r\n",
    "PowerFlowControl.Cols('iter').SetZ(0, 200)\r\n",
    "PowerFlowControl.Cols('enable_contr').SetZ(0, 1)\r\n",
    "PowerFlowControl.Cols('dis_i_contr').SetZ(0, 1)\r\n",
    "PowerFlowControl.Cols('dis_v_contr').SetZ(0, 1)\r\n",
    "\r\n",
    "Critereria3 = []\r\n",
    "i = 0\r\n",
    "PowerFlow = 0\r\n",
    "j = 1\r\n",
    "\r\n",
    "for lines in faults_data:\r\n",
    "    while i < rastr.Tables('vetv').Size:\r\n",
    "        if (rastr.Tables('vetv').Cols('iq').Z(i) == faults_data[lines]['iq']) and (rastr.Tables('vetv').Cols('ip').Z(i) == faults_data[lines]['ip']):\r\n",
    "            \r\n",
    "            rastr.Tables('vetv').Cols('sta').SetZ(i, 1)\r\n",
    "        \r\n",
    "            if rastr.ut_utr('i') > 0:\r\n",
    "                rastr.ut_utr('')          \r\n",
    "            \r\n",
    "            PowerFlow = abs(rastr.Tables('sechen').Cols('psech').Z(0))\r\n",
    "            PowerFlow80 = PowerFlow * 0.92\r\n",
    "\r\n",
    "            while PowerFlow > PowerFlow80:\r\n",
    "                rastr.GetToggle().MoveOnPosition(len(rastr.GetToggle().GetPositions()) - j)\r\n",
    "                PowerFlow = abs(rastr.Tables('sechen').Cols('psech').Z(0))\r\n",
    "                j = j + 1\r\n",
    "            \r\n",
    "            j = 1\r\n",
    "\r\n",
    "            rastr.Tables('vetv').Cols('sta').SetZ(i, 0)\r\n",
    "            rastr.rgm('p')\r\n",
    "\r\n",
    "            maxPowerFlow = abs(rastr.Tables('sechen').Cols('psech').Z(0)) - 30\r\n",
    "            maxPowerFlow = round(maxPowerFlow, 2)\r\n",
    "\r\n",
    "            Critereria3.append(maxPowerFlow)\r\n",
    "            rastr.Load(1, 'regime.rg2', 'C:/Users/mishk/Documents/RastrWin3/SHABLON/режим.rg2')\r\n",
    "\r\n",
    "        i = i + 1\r\n",
    "    i = 0    \r\n",
    "\r\n",
    "\r\n",
    "print(min(Critereria3))"
   ],
   "outputs": [
    {
     "output_type": "stream",
     "name": "stdout",
     "text": [
      "2132.61\n"
     ]
    }
   ],
   "metadata": {}
  },
  {
   "cell_type": "code",
   "execution_count": 48,
   "source": [
    "# Обеспечение нормативного коэффициента запаса статической устойчивости по напряжению\r\n",
    "# в узлах нагрузки в послеаварийных режимах после нормативных возмущений\r\n",
    "\r\n",
    "rastr.Load(1, 'regime.rg2', 'C:/Users/mishk/Documents/RastrWin3/SHABLON/режим.rg2')\r\n",
    "rastr.Load(1, 'sech.sch', 'C:/Users/mishk/Documents/RastrWin3/SHABLON/сечения.sch')\r\n",
    "rastr.Load(1, 'traj.ut2', 'C:/Users/mishk/Documents/RastrWin3/SHABLON/траектория утяжеления.ut2')\r\n",
    "\r\n",
    "PowerFlowControl = rastr.Tables('ut_common')\r\n",
    "PowerFlowControl.Cols('iter').SetZ(0, 200)\r\n",
    "PowerFlowControl.Cols('enable_contr').SetZ(0, 1)\r\n",
    "PowerFlowControl.Cols('dis_i_contr').SetZ(0, 1)\r\n",
    "\r\n",
    "Critereria4 = []\r\n",
    "i = 0\r\n",
    "PowerFlow = 0\r\n",
    "j = 1\r\n",
    "k = 0\r\n",
    "\r\n",
    "\r\n",
    "while k < rastr.Tables('node').Size:\r\n",
    "    if rastr.Tables('node').Cols('tip').Z(k) == 1:\r\n",
    "        u_kr = rastr.Tables('node').Cols('uhom').Z(k) * 0,7\r\n",
    "        u_min = u_kr * 1,1\r\n",
    "        rastr.Tables('node').Cols('umin').SetZ(k, u_min)\r\n",
    "    k = k + 1\r\n",
    "\r\n",
    "\r\n",
    "\r\n",
    "\r\n",
    "for lines in faults_data:\r\n",
    "    while i < rastr.Tables('vetv').Size:\r\n",
    "        if (rastr.Tables('vetv').Cols('iq').Z(i) == faults_data[lines]['iq']) and (rastr.Tables('vetv').Cols('ip').Z(i) == faults_data[lines]['ip']):\r\n",
    "            \r\n",
    "            rastr.Tables('vetv').Cols('sta').SetZ(i, 1)\r\n",
    "        \r\n",
    "            if rastr.ut_utr('i') > 0:\r\n",
    "                rastr.ut_utr('')          \r\n",
    "            \r\n",
    "            rastr.Tables('vetv').Cols('sta').SetZ(i, 0)\r\n",
    "            rastr.rgm('p')\r\n",
    "\r\n",
    "            maxPowerFlow = abs(rastr.Tables('sechen').Cols('psech').Z(0))\r\n",
    "            maxPowerFlow = round(maxPowerFlow, 2)\r\n",
    "\r\n",
    "            Critereria4.append(maxPowerFlow)\r\n",
    "            rastr.Load(1, 'regime.rg2', 'C:/Users/mishk/Documents/RastrWin3/SHABLON/режим.rg2')\r\n",
    "\r\n",
    "        i = i + 1\r\n",
    "    i = 0    \r\n",
    "\r\n",
    "\r\n",
    "print(min(Critereria4))"
   ],
   "outputs": [
    {
     "output_type": "stream",
     "name": "stdout",
     "text": [
      "2369.69\n"
     ]
    }
   ],
   "metadata": {}
  },
  {
   "cell_type": "code",
   "execution_count": 56,
   "source": [
    "#Обеспечение допустимой токовой нагрузки линий электропередачи и электросетевого оборудования в нормальной схеме\r\n",
    "rastr.Load(1, 'regime.rg2', 'C:/Users/mishk/Documents/RastrWin3/SHABLON/режим.rg2')\r\n",
    "rastr.Load(1, 'sech.sch', 'C:/Users/mishk/Documents/RastrWin3/SHABLON/сечения.sch')\r\n",
    "rastr.Load(1, 'traj.ut2', 'C:/Users/mishk/Documents/RastrWin3/SHABLON/траектория утяжеления.ut2')\r\n",
    "\r\n",
    "PowerFlowControl = rastr.Tables('ut_common')\r\n",
    "PowerFlowControl.Cols('iter').SetZ(0, 200)\r\n",
    "PowerFlowControl.Cols('enable_contr').SetZ(0, 1)\r\n",
    "PowerFlowControl.Cols('dis_v_contr').SetZ(0, 1)\r\n",
    "\r\n",
    "j = 1\r\n",
    "\r\n",
    "for line in flowgate_data:\r\n",
    "    while i < rastr.Tables('vetv').Size:\r\n",
    "        if (flowgate_data[line]['ip'] == rastr.Tables('vetv').Cols('ip').Z(i)) and (flowgate_data[line]['iq'] == rastr.Tables('vetv').Cols('iq').Z(i)):\r\n",
    "            rastr.Tables('vetv').Cols('contr_i').SetZ(i, 1)\r\n",
    "            rastr.Tables('vetv').Cols('i_dop').SetZ(i, rastr.Tables('vetv').Cols('i_dop_r').Z(i))\r\n",
    "        i = i +1\r\n",
    "    i = 0\r\n",
    "\r\n",
    "if rastr.ut_utr('i') > 0:\r\n",
    "    rastr.ut_utr('')\r\n",
    "\r\n",
    "Criteria5 = abs(rastr.Tables('sechen').Cols('psech').Z(0))\r\n",
    "Criteria5 = round(Criteria5, 2)\r\n",
    "\r\n",
    "print(Criteria5)"
   ],
   "outputs": [
    {
     "output_type": "stream",
     "name": "stdout",
     "text": [
      "1817.14\n"
     ]
    }
   ],
   "metadata": {}
  },
  {
   "cell_type": "code",
   "execution_count": 60,
   "source": [
    "#Обеспечение допустимой токовой нагрузки линий электропередачи и электросетевого оборудования в нормальной схеме\r\n",
    "rastr.Load(1, 'regime.rg2', 'C:/Users/mishk/Documents/RastrWin3/SHABLON/режим.rg2')\r\n",
    "rastr.Load(1, 'sech.sch', 'C:/Users/mishk/Documents/RastrWin3/SHABLON/сечения.sch')\r\n",
    "rastr.Load(1, 'traj.ut2', 'C:/Users/mishk/Documents/RastrWin3/SHABLON/траектория утяжеления.ut2')\r\n",
    "\r\n",
    "PowerFlowControl = rastr.Tables('ut_common')\r\n",
    "PowerFlowControl.Cols('iter').SetZ(0, 200)\r\n",
    "PowerFlowControl.Cols('enable_contr').SetZ(0, 1)\r\n",
    "PowerFlowControl.Cols('dis_v_contr').SetZ(0, 1)\r\n",
    "\r\n",
    "Criteria6 = []\r\n",
    "i = 0\r\n",
    "j = 0\r\n",
    "k = 0\r\n",
    "\r\n",
    "for lines in faults_data:\r\n",
    "    \r\n",
    "    for line in flowgate_data:\r\n",
    "        while i < rastr.Tables('vetv').Size:\r\n",
    "            if (flowgate_data[line]['ip'] == rastr.Tables('vetv').Cols('ip').Z(i)) and (flowgate_data[line]['iq'] == rastr.Tables('vetv').Cols('iq').Z(i)):\r\n",
    "                rastr.Tables('vetv').Cols('contr_i').SetZ(i, 1)\r\n",
    "                rastr.Tables('vetv').Cols('i_dop').SetZ(i, rastr.Tables('vetv').Cols('i_dop_r_av').Z(i))\r\n",
    "            i = i + 1\r\n",
    "        i = 0\r\n",
    "      \r\n",
    "    while j < rastr.Tables('vetv').Size:\r\n",
    "        if (rastr.Tables('vetv').Cols('iq').Z(j) == faults_data[lines]['iq']) and (rastr.Tables('vetv').Cols('ip').Z(j) == faults_data[lines]['ip']):\r\n",
    "            \r\n",
    "            rastr.Tables('vetv').Cols('sta').SetZ(j, 1)\r\n",
    "        \r\n",
    "            if rastr.ut_utr('i') > 0:\r\n",
    "                rastr.ut_utr('')          \r\n",
    "            \r\n",
    "            rastr.Tables('vetv').Cols('sta').SetZ(j, 0)\r\n",
    "            rastr.rgm('p')\r\n",
    "\r\n",
    "            maxPowerFlow = abs(rastr.Tables('sechen').Cols('psech').Z(0))\r\n",
    "            maxPowerFlow = round(maxPowerFlow, 2)\r\n",
    "\r\n",
    "            Criteria6.append(maxPowerFlow)\r\n",
    "            rastr.Load(1, 'regime.rg2', 'C:/Users/mishk/Documents/RastrWin3/SHABLON/режим.rg2')\r\n",
    "\r\n",
    "        j = j + 1\r\n",
    "    j = 0\r\n",
    "\r\n",
    "print(min(Criteria6))"
   ],
   "outputs": [
    {
     "output_type": "stream",
     "name": "stdout",
     "text": [
      "1509.26\n"
     ]
    }
   ],
   "metadata": {}
  }
 ],
 "metadata": {
  "orig_nbformat": 4,
  "language_info": {
   "name": "python",
   "version": "3.9.7",
   "mimetype": "text/x-python",
   "codemirror_mode": {
    "name": "ipython",
    "version": 3
   },
   "pygments_lexer": "ipython3",
   "nbconvert_exporter": "python",
   "file_extension": ".py"
  },
  "kernelspec": {
   "name": "python3",
   "display_name": "Python 3.9.7 32-bit ('.venv32': venv)"
  },
  "interpreter": {
   "hash": "29fb7df95740e5f803f78043f46750ba682e15b6d5c2a5b15198a1ec2c0e8ac6"
  }
 },
 "nbformat": 4,
 "nbformat_minor": 2
}